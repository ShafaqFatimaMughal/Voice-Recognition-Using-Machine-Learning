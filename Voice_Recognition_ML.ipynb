{
  "nbformat": 4,
  "nbformat_minor": 0,
  "metadata": {
    "colab": {
      "provenance": [],
      "collapsed_sections": [
        "5WC9Sxj51IgO",
        "0XuthI401Lt5",
        "tEVg6CX91Pf6"
      ]
    },
    "kernelspec": {
      "name": "python3",
      "display_name": "Python 3"
    },
    "language_info": {
      "name": "python"
    },
    "gpuClass": "standard",
    "accelerator": "TPU"
  },
  "cells": [
    {
      "cell_type": "markdown",
      "source": [
        "# Loading Libraries"
      ],
      "metadata": {
        "id": "s33C4i2MoWKT"
      }
    },
    {
      "cell_type": "code",
      "source": [
        "import librosa\n",
        "import os\n",
        "from google.colab import drive\n",
        "from google.colab import files\n",
        "import math\n",
        "from tqdm import tqdm\n",
        "import numpy as np\n",
        "import pandas as pd\n",
        "import json\n",
        "import matplotlib.pyplot as plt\n",
        "from sklearn.model_selection import train_test_split\n",
        "from statistics import mode\n",
        "import seaborn as sns\n",
        "from sklearn.metrics import confusion_matrix\n",
        "# import librosa.display\n",
        "# import tensorflow.keras as keras\n",
        "# from keras.callbacks import ModelCheckpoint\n",
        "# import IPython.display as ipd"
      ],
      "metadata": {
        "id": "1EkPvK7ZcD93"
      },
      "execution_count": 22,
      "outputs": []
    },
    {
      "cell_type": "code",
      "source": [
        "drive.mount('/content/drive') #mounting drive so that we can access the dataset that has been uploaded"
      ],
      "metadata": {
        "id": "m9abPgFIG2so",
        "colab": {
          "base_uri": "https://localhost:8080/"
        },
        "outputId": "5ed2dde2-68a9-4e27-ed3b-82b0c8de5547"
      },
      "execution_count": 23,
      "outputs": [
        {
          "output_type": "stream",
          "name": "stdout",
          "text": [
            "Drive already mounted at /content/drive; to attempt to forcibly remount, call drive.mount(\"/content/drive\", force_remount=True).\n"
          ]
        }
      ]
    },
    {
      "cell_type": "markdown",
      "source": [
        "#Curating Dataset"
      ],
      "metadata": {
        "id": "7Q4kec_0obT1"
      }
    },
    {
      "cell_type": "markdown",
      "source": [
        "## Initializing Paths"
      ],
      "metadata": {
        "id": "3tL4mPqCoY_I"
      }
    },
    {
      "cell_type": "code",
      "source": [
        "# Training Dataset Path\n",
        "training_dataset_path = \"/content/drive/MyDrive/AI_voice_data/TrainingData\"\n",
        "training_json_path = \"/content/train_data.json\" #path of json when json created first time"
      ],
      "metadata": {
        "id": "uv4miH1edNpG"
      },
      "execution_count": 24,
      "outputs": []
    },
    {
      "cell_type": "markdown",
      "source": [
        "##Setting Hyper-Parametes"
      ],
      "metadata": {
        "id": "pYPvV2mOodnN"
      }
    },
    {
      "cell_type": "code",
      "source": [
        "# Hyper-parameters for Audio Images\n",
        "SAMPLE_RATE = 22050\n",
        "TRACK_SAMPLE = 10\n",
        "NUM_CLASSES = 10\n",
        "num_mfcc = 32\n",
        "n_fft = 2048\n",
        "hop_length = 512\n",
        "\n",
        "# Hyper-paremeters for MLP\n",
        "EPOCHS = 50\n",
        "TRAIN_TEST_SPLIT = 0.2\n",
        "LEARNING_RATE = 0.0001\n",
        "BATCH_SIZE = 10\n",
        "SHUFFLE_DATA = True"
      ],
      "metadata": {
        "id": "Y3jZoDi5cSX-"
      },
      "execution_count": 25,
      "outputs": []
    },
    {
      "cell_type": "markdown",
      "source": [
        "## Creating MFCC Dataset"
      ],
      "metadata": {
        "id": "bVp4vYe2oi5K"
      }
    },
    {
      "cell_type": "code",
      "source": [
        "def save_mfcc(dataset_path, json_path):\n",
        "    data = {\n",
        "        \"mapping\": [],\n",
        "        \"labels\": [],\n",
        "        \"mfcc\": []\n",
        "    }\n",
        "    for root, dirs, files in os.walk(dataset_path):\n",
        "      for _, name in tqdm(enumerate(files)):\n",
        "            file_path = os.path.join(root, name)\n",
        "            \n",
        "            person = name.split(\".\")[0].split(\"_\")[0]\n",
        "            if person in data[\"mapping\"]:\n",
        "              pass\n",
        "            else:\n",
        "              data[\"mapping\"].append(person)\n",
        "\n",
        "            signal, sample_rate = librosa.load(file_path, sr=SAMPLE_RATE)\n",
        "            duration = librosa.get_duration(y=signal, sr=sample_rate) #duration in seconds\n",
        "            d = 0\n",
        "            print(data[\"mapping\"][-1])\n",
        "\n",
        "            for i in range(0, math.floor(duration), TRACK_SAMPLE): #generating mfccs for random segments in songs\n",
        "\n",
        "                if (i+10) > duration:\n",
        "                  continue\n",
        "                \n",
        "                start = i * SAMPLE_RATE\n",
        "                finish = (i + TRACK_SAMPLE) * SAMPLE_RATE\n",
        "\n",
        "\n",
        "                mfcc = librosa.feature.mfcc(signal[start:finish], sample_rate, n_mfcc=num_mfcc, n_fft=n_fft, hop_length=hop_length)\n",
        "                mfcc = mfcc.T\n",
        "\n",
        "                data[\"mfcc\"].append(mfcc.tolist()) #converting to lst as numpy arr not stored by json file\n",
        "                data[\"labels\"].append(data[\"mapping\"].index(person)) #stores the genre label index\n",
        "\n",
        "                # print(\"{}, segment:{}\".format(file_path, d+1))\n",
        "                d += 1\n",
        "\n",
        "    #creating a json file to save all mfccs and relevant details of each song segment\n",
        "    with open(json_path, \"w\") as fp:\n",
        "        json.dump(data, fp, indent=4)"
      ],
      "metadata": {
        "id": "_5Jj3JGOcCg6"
      },
      "execution_count": 5,
      "outputs": []
    },
    {
      "cell_type": "code",
      "source": [
        "save_mfcc(training_dataset_path, training_json_path)"
      ],
      "metadata": {
        "id": "j3ovcC5cKDpl",
        "colab": {
          "base_uri": "https://localhost:8080/"
        },
        "outputId": "b19a6ea6-2a73-42f0-874b-faf7fb6798d4"
      },
      "execution_count": 6,
      "outputs": [
        {
          "output_type": "stream",
          "name": "stderr",
          "text": [
            "\r0it [00:00, ?it/s]"
          ]
        },
        {
          "output_type": "stream",
          "name": "stdout",
          "text": [
            "Shayan Aamir\n"
          ]
        },
        {
          "output_type": "stream",
          "name": "stderr",
          "text": [
            "\r1it [00:07,  7.81s/it]"
          ]
        },
        {
          "output_type": "stream",
          "name": "stdout",
          "text": [
            "Shayan Aamir\n"
          ]
        },
        {
          "output_type": "stream",
          "name": "stderr",
          "text": [
            "\r2it [00:14,  6.97s/it]"
          ]
        },
        {
          "output_type": "stream",
          "name": "stdout",
          "text": [
            "Usman Qadir\n"
          ]
        },
        {
          "output_type": "stream",
          "name": "stderr",
          "text": [
            "\r3it [00:22,  7.48s/it]"
          ]
        },
        {
          "output_type": "stream",
          "name": "stdout",
          "text": [
            "Usman Qadir\n"
          ]
        },
        {
          "output_type": "stream",
          "name": "stderr",
          "text": [
            "\r4it [00:27,  6.68s/it]"
          ]
        },
        {
          "output_type": "stream",
          "name": "stdout",
          "text": [
            "Khubaib Sattar\n"
          ]
        },
        {
          "output_type": "stream",
          "name": "stderr",
          "text": [
            "\r5it [00:37,  7.80s/it]"
          ]
        },
        {
          "output_type": "stream",
          "name": "stdout",
          "text": [
            "Khubaib Sattar\n"
          ]
        },
        {
          "output_type": "stream",
          "name": "stderr",
          "text": [
            "\r6it [00:43,  7.18s/it]"
          ]
        },
        {
          "output_type": "stream",
          "name": "stdout",
          "text": [
            "Muhammad Zain\n"
          ]
        },
        {
          "output_type": "stream",
          "name": "stderr",
          "text": [
            "\r7it [00:51,  7.43s/it]"
          ]
        },
        {
          "output_type": "stream",
          "name": "stdout",
          "text": [
            "Muhammad Zain\n"
          ]
        },
        {
          "output_type": "stream",
          "name": "stderr",
          "text": [
            "\r8it [00:57,  6.85s/it]"
          ]
        },
        {
          "output_type": "stream",
          "name": "stdout",
          "text": [
            "Shafaq Mughal\n"
          ]
        },
        {
          "output_type": "stream",
          "name": "stderr",
          "text": [
            "\r9it [01:06,  7.80s/it]"
          ]
        },
        {
          "output_type": "stream",
          "name": "stdout",
          "text": [
            "Shafaq Mughal\n"
          ]
        },
        {
          "output_type": "stream",
          "name": "stderr",
          "text": [
            "\r10it [01:13,  7.40s/it]"
          ]
        },
        {
          "output_type": "stream",
          "name": "stdout",
          "text": [
            "Akeel Athar\n"
          ]
        },
        {
          "output_type": "stream",
          "name": "stderr",
          "text": [
            "\r11it [01:21,  7.75s/it]"
          ]
        },
        {
          "output_type": "stream",
          "name": "stdout",
          "text": [
            "Akeel Athar\n"
          ]
        },
        {
          "output_type": "stream",
          "name": "stderr",
          "text": [
            "\r12it [01:27,  7.00s/it]"
          ]
        },
        {
          "output_type": "stream",
          "name": "stdout",
          "text": [
            "Omar Zia\n"
          ]
        },
        {
          "output_type": "stream",
          "name": "stderr",
          "text": [
            "\r13it [01:35,  7.38s/it]"
          ]
        },
        {
          "output_type": "stream",
          "name": "stdout",
          "text": [
            "Omar Zia\n"
          ]
        },
        {
          "output_type": "stream",
          "name": "stderr",
          "text": [
            "\r14it [01:41,  7.01s/it]"
          ]
        },
        {
          "output_type": "stream",
          "name": "stdout",
          "text": [
            "Fizza Rubab\n"
          ]
        },
        {
          "output_type": "stream",
          "name": "stderr",
          "text": [
            "\r15it [01:49,  7.24s/it]"
          ]
        },
        {
          "output_type": "stream",
          "name": "stdout",
          "text": [
            "Fizza Rubab\n"
          ]
        },
        {
          "output_type": "stream",
          "name": "stderr",
          "text": [
            "\r16it [01:54,  6.53s/it]"
          ]
        },
        {
          "output_type": "stream",
          "name": "stdout",
          "text": [
            "Umema Zehra\n"
          ]
        },
        {
          "output_type": "stream",
          "name": "stderr",
          "text": [
            "\r17it [02:03,  7.18s/it]"
          ]
        },
        {
          "output_type": "stream",
          "name": "stdout",
          "text": [
            "Ayesha Syed\n"
          ]
        },
        {
          "output_type": "stream",
          "name": "stderr",
          "text": [
            "18it [02:11,  7.30s/it]\n"
          ]
        }
      ]
    },
    {
      "cell_type": "markdown",
      "source": [
        "# Creating our MLP model"
      ],
      "metadata": {
        "id": "XNI6NeIQUM3s"
      }
    },
    {
      "cell_type": "markdown",
      "source": [
        "## Layer Class"
      ],
      "metadata": {
        "id": "5WC9Sxj51IgO"
      }
    },
    {
      "cell_type": "code",
      "source": [
        "class Layer:\n",
        "    \"\"\"\n",
        "    A building block. Each layer is capable of performing two things:\n",
        "\n",
        "    - Process input to get output:           output = layer.forward(input)\n",
        "    \n",
        "    - Propagate gradients through itself:    grad_input = layer.backward(input, grad_output)\n",
        "    \n",
        "    Some layers also have learnable parameters which they update during layer.backward.\n",
        "    \"\"\"\n",
        "    def __init__(self):\n",
        "        \"\"\"Here we can initialize layer parameters (if any) and auxiliary stuff.\"\"\"\n",
        "        # A dummy layer does nothing\n",
        "        pass\n",
        "    \n",
        "    def forward(self, input):\n",
        "        \"\"\"\n",
        "        Takes input data of shape [batch, input_units], returns output data [batch, output_units]\n",
        "        \"\"\"\n",
        "        # A dummy layer just returns whatever it gets as input.\n",
        "        return input\n",
        "\n",
        "    def backward(self, input, grad_output):\n",
        "        \"\"\"\n",
        "        Performs a backpropagation step through the layer, with respect to the given input.\n",
        "        \n",
        "        To compute loss gradients w.r.t input, we need to apply chain rule (backprop):\n",
        "        \n",
        "        d loss / d x  = (d loss / d layer) * (d layer / d x)\n",
        "        \n",
        "        Luckily, we already receive d loss / d layer as input, so you only need to multiply it by d layer / d x.\n",
        "        \n",
        "        If our layer has parameters (e.g. dense layer), we also need to update them here using d loss / d layer\n",
        "        \"\"\"\n",
        "        # The gradient of a dummy layer is precisely grad_output, but we'll write it more explicitly\n",
        "        num_units = input.shape[1]\n",
        "        \n",
        "        d_layer_d_input = np.eye(num_units)\n",
        "        \n",
        "        return np.dot(grad_output, d_layer_d_input) # chain rule"
      ],
      "metadata": {
        "id": "a72hmFzO0sOm"
      },
      "execution_count": 26,
      "outputs": []
    },
    {
      "cell_type": "markdown",
      "source": [
        "## Relu Activation"
      ],
      "metadata": {
        "id": "0XuthI401Lt5"
      }
    },
    {
      "cell_type": "code",
      "source": [
        "class ReLU(Layer):\n",
        "    def __init__(self):\n",
        "        \"\"\"ReLU layer simply applies elementwise rectified linear unit to all inputs\"\"\"\n",
        "        pass\n",
        "    \n",
        "    def forward(self, input):\n",
        "        \"\"\"Apply elementwise ReLU to [batch, input_units] matrix\"\"\"\n",
        "        relu_forward = np.maximum(0,input)\n",
        "        return relu_forward\n",
        "    \n",
        "    def backward(self, input, grad_output):\n",
        "        \"\"\"Compute gradient of loss w.r.t. ReLU input\"\"\"\n",
        "        relu_grad = input > 0\n",
        "        return grad_output*relu_grad "
      ],
      "metadata": {
        "id": "9bvMSZIL0uND"
      },
      "execution_count": 27,
      "outputs": []
    },
    {
      "cell_type": "markdown",
      "source": [
        "## Sigmoid Activation"
      ],
      "metadata": {
        "id": "tEVg6CX91Pf6"
      }
    },
    {
      "cell_type": "code",
      "source": [
        "class Sigmoid(Layer):\n",
        "    def __init__(self):\n",
        "        \"\"\"Sigmoid layer simply applies sigmoid activation function to all inputs\"\"\"\n",
        "        pass\n",
        "    \n",
        "    def forward(self, input):\n",
        "        \"\"\"Apply elementwise sigmoid to [batch, input_units] matrix\"\"\"\n",
        "        sigmoid_forward = 1/(1+np.exp(-input))\n",
        "        return sigmoid_forward\n",
        "    \n",
        "    def backward(self, input, grad_output):\n",
        "        \"\"\"Compute gradient of loss w.r.t. Sigmoid input\"\"\"\n",
        "        sigmoid_forward = 1/(1+np.exp(-input))\n",
        "        sigmoid_grad = sigmoid_forward*(1-sigmoid_forward)\n",
        "        return grad_output*sigmoid_grad "
      ],
      "metadata": {
        "id": "gRotxhMi0wPn"
      },
      "execution_count": 28,
      "outputs": []
    },
    {
      "cell_type": "markdown",
      "source": [
        "## Dense Layer"
      ],
      "metadata": {
        "id": "x8pKYost1UWY"
      }
    },
    {
      "cell_type": "code",
      "source": [
        "class Dense(Layer):\n",
        "    def __init__(self, input_units, output_units, learning_rate=0.01):\n",
        "        \"\"\"\n",
        "        A dense layer is a layer which performs a learned affine transformation:\n",
        "        f(x) = <X,W> + b\n",
        "        \"\"\"\n",
        "        self.learning_rate = learning_rate\n",
        "        self.weights = np.random.normal(loc=0.0, scale = np.sqrt(2/(input_units+output_units)), size = (input_units,output_units))\n",
        "        self.biases = np.zeros(output_units)\n",
        "        \n",
        "    def forward(self,input):\n",
        "        \"\"\"\n",
        "        Perform an affine transformation:\n",
        "        f(x) = <X,W> + b\n",
        "        \n",
        "        input shape: [batch, input_units]\n",
        "        output shape: [batch, output units]\n",
        "        \"\"\"\n",
        "        return np.dot(input,self.weights) + self.biases\n",
        "    \n",
        "    def backward(self,input,grad_output):\n",
        "        # compute d f / d x = d f / d dense * d dense / d x\n",
        "        # where d dense/ d x = weights transposed\n",
        "        grad_input = np.dot(grad_output, self.weights.T)\n",
        "        \n",
        "        # compute gradient w.r.t. weights and biases\n",
        "        grad_weights = np.dot(input.T, grad_output)/input.shape[0]\n",
        "\n",
        "\n",
        "        grad_biases = grad_output.sum(axis=0)/input.shape[0]\n",
        "        \n",
        "        assert grad_weights.shape == self.weights.shape and grad_biases.shape == self.biases.shape\n",
        "        \n",
        "        # Here we perform a stochastic gradient descent step. \n",
        "        self.weights = self.weights - self.learning_rate * grad_weights\n",
        "        self.biases = self.biases - self.learning_rate * grad_biases\n",
        "        \n",
        "        return grad_input"
      ],
      "metadata": {
        "id": "_ChVbiET0x3H"
      },
      "execution_count": 29,
      "outputs": []
    },
    {
      "cell_type": "markdown",
      "source": [
        "## Loss Functions"
      ],
      "metadata": {
        "id": "gy5rRe8n1WpI"
      }
    },
    {
      "cell_type": "code",
      "source": [
        "def softmax(z):\n",
        "  exp = np.exp(z-np.max(z,axis=1,keepdims=True))\n",
        "  probs = exp/np.sum(exp,axis=1,keepdims=True)\n",
        "  return probs\n",
        "\n",
        "def one_hot(y,c):\n",
        "   y_hot = np.zeros((len(y),c ))\n",
        "   y_hot[np.arange(len(y)), y] = 1\n",
        "   return y_hot\n",
        "\n",
        "def cross_entropy_loss(logits,y):\n",
        "   y_hat = softmax(logits)\n",
        "   y_hot = one_hot(y,NUM_CLASSES)\n",
        "   loss = -np.sum(np.log(y_hat)*y_hot)/y.shape[0]\n",
        "   return loss\n",
        "\n",
        "def grad_cross_entropy_loss(logits,y):\n",
        "    y_hat = softmax(logits)\n",
        "    y_hot = one_hot(y,NUM_CLASSES)\n",
        "    return (y_hat - y_hot)"
      ],
      "metadata": {
        "id": "oqY-77fV0znk"
      },
      "execution_count": 30,
      "outputs": []
    },
    {
      "cell_type": "markdown",
      "source": [
        "## Main MLP Class"
      ],
      "metadata": {
        "id": "sWz1FGvv1bSB"
      }
    },
    {
      "cell_type": "code",
      "source": [
        "class MLP:\n",
        "  def __init__(self,n) -> None:\n",
        "      self.network = n\n",
        "  def forward(self, X):\n",
        "    \"\"\"\n",
        "    Compute activations of all network layers by applying them sequentially.\n",
        "    Return a list of activations for each layer. \n",
        "    \"\"\"\n",
        "    activations = []\n",
        "    input = X\n",
        "\n",
        "    # Looping through each layer\n",
        "    for l in self.network:\n",
        "        activations.append(l.forward(input))\n",
        "        # Updating input to last layer output\n",
        "        input = activations[-1]\n",
        "    \n",
        "    assert len(activations) == len(self.network)\n",
        "    return activations\n",
        "  def predict(self,X):\n",
        "      \"\"\"\n",
        "      Compute network predictions. Returning indices of largest Logit probability\n",
        "      \"\"\"\n",
        "      logits = self.forward(X)[-1]\n",
        "      return np.argmax(softmax(logits),axis=1)\n",
        "  def train(self,X,y):\n",
        "      \"\"\"\n",
        "      Train our network on a given batch of X and y.\n",
        "      We first need to run forward to get all layer activations.\n",
        "      Then we can run layer.backward going from last to first layer.\n",
        "      After we have called backward for all layers, all Dense layers have already made one gradient step.\n",
        "      \"\"\"\n",
        "      \n",
        "      # Get the layer activations\n",
        "      layer_activations = self.forward(X)\n",
        "      layer_inputs = [X]+layer_activations  #layer_input[i] is an input for network[i]\n",
        "      logits = layer_activations[-1]\n",
        "      \n",
        "      # Compute the loss and the initial gradient\n",
        "  \n",
        "      loss = cross_entropy_loss(logits,y)\n",
        "\n",
        "      loss_grad = grad_cross_entropy_loss(logits,y)\n",
        "      \n",
        "      # Propagate gradients through the network\n",
        "      # Reverse propogation as this is backprop\n",
        "      for layer_index in range(len(self.network))[::-1]:\n",
        "          layer = self.network[layer_index]\n",
        "          \n",
        "          loss_grad = layer.backward(layer_inputs[layer_index],loss_grad) #grad w.r.t. input, also weight updates\n",
        "          \n",
        "      return np.mean(loss)\n",
        "\n"
      ],
      "metadata": {
        "id": "JFq0CDqc01Rs"
      },
      "execution_count": 31,
      "outputs": []
    },
    {
      "cell_type": "markdown",
      "source": [
        "# Loading Dataset"
      ],
      "metadata": {
        "id": "R87nfJCc1ea7"
      }
    },
    {
      "cell_type": "code",
      "source": [
        "def load_data(data_path): #open and read json from given path\n",
        "    with open(data_path, \"r\") as fp:\n",
        "        data = json.load(fp)\n",
        "\n",
        "    #save mfcc in X and relevant data in y and z\n",
        "    X = np.array(data[\"mfcc\"])\n",
        "    y = np.array(data[\"labels\"])\n",
        "    z = np.array(data['mapping'])\n",
        "    return X, y, z\n",
        "\n",
        "def prepare_datasets(dataset_path, test_size):\n",
        "    # load data\n",
        "    X, y, z = load_data(dataset_path)\n",
        "\n",
        "    # create train, validation and test split\n",
        "    X_train, X_test, y_train, y_test = train_test_split(X, y, test_size=test_size)\n",
        "\n",
        "    # add an axis to input sets\n",
        "    X_train = X_train[..., np.newaxis]\n",
        "    X_test = X_test[..., np.newaxis]\n",
        "\n",
        "    return X_train, X_test, y_train,  y_test, z"
      ],
      "metadata": {
        "id": "jxMEpzD805VE"
      },
      "execution_count": 32,
      "outputs": []
    },
    {
      "cell_type": "markdown",
      "source": [
        "## Generating Train/Test Splits"
      ],
      "metadata": {
        "id": "Ar6OzBTb26lZ"
      }
    },
    {
      "cell_type": "code",
      "execution_count": 33,
      "metadata": {
        "id": "MkeoO1iZ15OJ",
        "colab": {
          "base_uri": "https://localhost:8080/"
        },
        "outputId": "6cc62fb5-19b6-4e0c-e8d6-5f3892140d48"
      },
      "outputs": [
        {
          "output_type": "execute_result",
          "data": {
            "text/plain": [
              "(400, 431, 32, 1)"
            ]
          },
          "metadata": {},
          "execution_count": 33
        }
      ],
      "source": [
        "X_train, X_test, y_train,  y_test, z = prepare_datasets(training_json_path, TRAIN_TEST_SPLIT)\n",
        "\n",
        "input_shape = (X_train.shape[1], X_train.shape[2], 1) \n",
        "\n",
        "X_train.shape"
      ]
    },
    {
      "cell_type": "code",
      "source": [
        "X_train_flatten = X_train.reshape((X_train.shape[0], -1))\n",
        "X_test_flatten = X_test.reshape((X_test.shape[0], -1))"
      ],
      "metadata": {
        "id": "FSnGq7Gp51kN"
      },
      "execution_count": 34,
      "outputs": []
    },
    {
      "cell_type": "markdown",
      "source": [
        "# Initializing Model"
      ],
      "metadata": {
        "id": "jMZgO8x82VAu"
      }
    },
    {
      "cell_type": "code",
      "source": [
        "network = []\n",
        "train_log = []\n",
        "val_log = []\n",
        "\n",
        "network.append(Dense(X_train_flatten.shape[1], 1024, learning_rate = LEARNING_RATE))\n",
        "network.append(ReLU())\n",
        "network.append(Dense(1024, NUM_CLASSES, learning_rate = LEARNING_RATE))"
      ],
      "metadata": {
        "id": "zSTuCHD_07Kr"
      },
      "execution_count": 35,
      "outputs": []
    },
    {
      "cell_type": "code",
      "execution_count": 36,
      "metadata": {
        "id": "_Hv0vVK-HaQe"
      },
      "outputs": [],
      "source": [
        "model = MLP(n = network)"
      ]
    },
    {
      "cell_type": "markdown",
      "source": [
        "# Training Model"
      ],
      "metadata": {
        "id": "oXzVINfe2XUt"
      }
    },
    {
      "cell_type": "code",
      "source": [
        "# Minibatch Stochastic Gradient Descent\n",
        "def iterate_minibatches(inputs, targets, batchsize, shuffle=False):\n",
        "    assert len(inputs) == len(targets)\n",
        "    if shuffle:\n",
        "        indices = np.random.permutation(len(inputs))\n",
        "    for start_idx in range(0, len(inputs) - batchsize + 1, batchsize):\n",
        "        if shuffle:\n",
        "            excerpt = indices[start_idx:start_idx + batchsize]\n",
        "        else:\n",
        "            excerpt = slice(start_idx, start_idx + batchsize)\n",
        "        yield inputs[excerpt], targets[excerpt]"
      ],
      "metadata": {
        "id": "f78qtbfk02_I"
      },
      "execution_count": 37,
      "outputs": []
    },
    {
      "cell_type": "code",
      "execution_count": 38,
      "metadata": {
        "id": "u4zr3PS8EEvc",
        "colab": {
          "base_uri": "https://localhost:8080/",
          "height": 1000
        },
        "outputId": "b54a0858-6abc-4f7f-8bbf-113a7c2b7b52"
      },
      "outputs": [
        {
          "output_type": "stream",
          "name": "stderr",
          "text": [
            "\r  0%|          | 0/50 [00:00<?, ?it/s]/usr/local/lib/python3.7/dist-packages/ipykernel_launcher.py:14: RuntimeWarning: divide by zero encountered in log\n",
            "  \n",
            "/usr/local/lib/python3.7/dist-packages/ipykernel_launcher.py:14: RuntimeWarning: invalid value encountered in multiply\n",
            "  \n",
            "  2%|▏         | 1/50 [00:04<03:32,  4.35s/it]"
          ]
        },
        {
          "output_type": "stream",
          "name": "stdout",
          "text": [
            "Epoch 0\n",
            "Train accuracy: 0.255\n"
          ]
        },
        {
          "output_type": "stream",
          "name": "stderr",
          "text": [
            "\r  4%|▍         | 2/50 [00:08<03:27,  4.33s/it]"
          ]
        },
        {
          "output_type": "stream",
          "name": "stdout",
          "text": [
            "Epoch 1\n",
            "Train accuracy: 0.3225\n"
          ]
        },
        {
          "output_type": "stream",
          "name": "stderr",
          "text": [
            "\r  6%|▌         | 3/50 [00:13<03:24,  4.36s/it]"
          ]
        },
        {
          "output_type": "stream",
          "name": "stdout",
          "text": [
            "Epoch 2\n",
            "Train accuracy: 0.3875\n"
          ]
        },
        {
          "output_type": "stream",
          "name": "stderr",
          "text": [
            "\r  8%|▊         | 4/50 [00:17<03:19,  4.33s/it]"
          ]
        },
        {
          "output_type": "stream",
          "name": "stdout",
          "text": [
            "Epoch 3\n",
            "Train accuracy: 0.43\n"
          ]
        },
        {
          "output_type": "stream",
          "name": "stderr",
          "text": [
            "\r 10%|█         | 5/50 [00:21<03:15,  4.34s/it]"
          ]
        },
        {
          "output_type": "stream",
          "name": "stdout",
          "text": [
            "Epoch 4\n",
            "Train accuracy: 0.4625\n"
          ]
        },
        {
          "output_type": "stream",
          "name": "stderr",
          "text": [
            "\r 12%|█▏        | 6/50 [00:25<03:09,  4.31s/it]"
          ]
        },
        {
          "output_type": "stream",
          "name": "stdout",
          "text": [
            "Epoch 5\n",
            "Train accuracy: 0.5275\n"
          ]
        },
        {
          "output_type": "stream",
          "name": "stderr",
          "text": [
            "\r 14%|█▍        | 7/50 [00:30<03:06,  4.34s/it]"
          ]
        },
        {
          "output_type": "stream",
          "name": "stdout",
          "text": [
            "Epoch 6\n",
            "Train accuracy: 0.5275\n"
          ]
        },
        {
          "output_type": "stream",
          "name": "stderr",
          "text": [
            "\r 16%|█▌        | 8/50 [00:34<03:01,  4.33s/it]"
          ]
        },
        {
          "output_type": "stream",
          "name": "stdout",
          "text": [
            "Epoch 7\n",
            "Train accuracy: 0.5575\n"
          ]
        },
        {
          "output_type": "stream",
          "name": "stderr",
          "text": [
            "\r 18%|█▊        | 9/50 [00:40<03:13,  4.73s/it]"
          ]
        },
        {
          "output_type": "stream",
          "name": "stdout",
          "text": [
            "Epoch 8\n",
            "Train accuracy: 0.65\n"
          ]
        },
        {
          "output_type": "stream",
          "name": "stderr",
          "text": [
            "\r 20%|██        | 10/50 [00:44<03:04,  4.61s/it]"
          ]
        },
        {
          "output_type": "stream",
          "name": "stdout",
          "text": [
            "Epoch 9\n",
            "Train accuracy: 0.7\n"
          ]
        },
        {
          "output_type": "stream",
          "name": "stderr",
          "text": [
            "\r 22%|██▏       | 11/50 [00:48<02:56,  4.52s/it]"
          ]
        },
        {
          "output_type": "stream",
          "name": "stdout",
          "text": [
            "Epoch 10\n",
            "Train accuracy: 0.6225\n"
          ]
        },
        {
          "output_type": "stream",
          "name": "stderr",
          "text": [
            "\r 24%|██▍       | 12/50 [00:53<02:49,  4.46s/it]"
          ]
        },
        {
          "output_type": "stream",
          "name": "stdout",
          "text": [
            "Epoch 11\n",
            "Train accuracy: 0.665\n"
          ]
        },
        {
          "output_type": "stream",
          "name": "stderr",
          "text": [
            "\r 26%|██▌       | 13/50 [00:57<02:43,  4.42s/it]"
          ]
        },
        {
          "output_type": "stream",
          "name": "stdout",
          "text": [
            "Epoch 12\n",
            "Train accuracy: 0.7725\n"
          ]
        },
        {
          "output_type": "stream",
          "name": "stderr",
          "text": [
            "\r 28%|██▊       | 14/50 [01:01<02:39,  4.42s/it]"
          ]
        },
        {
          "output_type": "stream",
          "name": "stdout",
          "text": [
            "Epoch 13\n",
            "Train accuracy: 0.8175\n"
          ]
        },
        {
          "output_type": "stream",
          "name": "stderr",
          "text": [
            "\r 30%|███       | 15/50 [01:08<02:56,  5.04s/it]"
          ]
        },
        {
          "output_type": "stream",
          "name": "stdout",
          "text": [
            "Epoch 14\n",
            "Train accuracy: 0.87\n"
          ]
        },
        {
          "output_type": "stream",
          "name": "stderr",
          "text": [
            "\r 32%|███▏      | 16/50 [01:13<02:48,  4.95s/it]"
          ]
        },
        {
          "output_type": "stream",
          "name": "stdout",
          "text": [
            "Epoch 15\n",
            "Train accuracy: 0.8475\n"
          ]
        },
        {
          "output_type": "stream",
          "name": "stderr",
          "text": [
            "\r 34%|███▍      | 17/50 [01:17<02:40,  4.86s/it]"
          ]
        },
        {
          "output_type": "stream",
          "name": "stdout",
          "text": [
            "Epoch 16\n",
            "Train accuracy: 0.81\n"
          ]
        },
        {
          "output_type": "stream",
          "name": "stderr",
          "text": [
            "\r 36%|███▌      | 18/50 [01:22<02:33,  4.81s/it]"
          ]
        },
        {
          "output_type": "stream",
          "name": "stdout",
          "text": [
            "Epoch 17\n",
            "Train accuracy: 0.9375\n"
          ]
        },
        {
          "output_type": "stream",
          "name": "stderr",
          "text": [
            "\r 38%|███▊      | 19/50 [01:27<02:27,  4.74s/it]"
          ]
        },
        {
          "output_type": "stream",
          "name": "stdout",
          "text": [
            "Epoch 18\n",
            "Train accuracy: 0.905\n"
          ]
        },
        {
          "output_type": "stream",
          "name": "stderr",
          "text": [
            "\r 40%|████      | 20/50 [01:32<02:24,  4.82s/it]"
          ]
        },
        {
          "output_type": "stream",
          "name": "stdout",
          "text": [
            "Epoch 19\n",
            "Train accuracy: 0.975\n"
          ]
        },
        {
          "output_type": "stream",
          "name": "stderr",
          "text": [
            "\r 42%|████▏     | 21/50 [01:37<02:27,  5.09s/it]"
          ]
        },
        {
          "output_type": "stream",
          "name": "stdout",
          "text": [
            "Epoch 20\n",
            "Train accuracy: 0.73\n"
          ]
        },
        {
          "output_type": "stream",
          "name": "stderr",
          "text": [
            "\r 44%|████▍     | 22/50 [01:42<02:18,  4.95s/it]"
          ]
        },
        {
          "output_type": "stream",
          "name": "stdout",
          "text": [
            "Epoch 21\n",
            "Train accuracy: 0.985\n"
          ]
        },
        {
          "output_type": "stream",
          "name": "stderr",
          "text": [
            "\r 46%|████▌     | 23/50 [01:47<02:10,  4.85s/it]"
          ]
        },
        {
          "output_type": "stream",
          "name": "stdout",
          "text": [
            "Epoch 22\n",
            "Train accuracy: 0.9975\n"
          ]
        },
        {
          "output_type": "stream",
          "name": "stderr",
          "text": [
            "\r 48%|████▊     | 24/50 [01:51<02:04,  4.78s/it]"
          ]
        },
        {
          "output_type": "stream",
          "name": "stdout",
          "text": [
            "Epoch 23\n",
            "Train accuracy: 0.9925\n"
          ]
        },
        {
          "output_type": "stream",
          "name": "stderr",
          "text": [
            "\r 50%|█████     | 25/50 [01:56<01:58,  4.73s/it]"
          ]
        },
        {
          "output_type": "stream",
          "name": "stdout",
          "text": [
            "Epoch 24\n",
            "Train accuracy: 0.9925\n"
          ]
        },
        {
          "output_type": "stream",
          "name": "stderr",
          "text": [
            "\r 52%|█████▏    | 26/50 [02:00<01:52,  4.70s/it]"
          ]
        },
        {
          "output_type": "stream",
          "name": "stdout",
          "text": [
            "Epoch 25\n",
            "Train accuracy: 0.9975\n"
          ]
        },
        {
          "output_type": "stream",
          "name": "stderr",
          "text": [
            "\r 54%|█████▍    | 27/50 [02:05<01:47,  4.68s/it]"
          ]
        },
        {
          "output_type": "stream",
          "name": "stdout",
          "text": [
            "Epoch 26\n",
            "Train accuracy: 1.0\n"
          ]
        },
        {
          "output_type": "stream",
          "name": "stderr",
          "text": [
            "\r 56%|█████▌    | 28/50 [02:10<01:42,  4.65s/it]"
          ]
        },
        {
          "output_type": "stream",
          "name": "stdout",
          "text": [
            "Epoch 27\n",
            "Train accuracy: 1.0\n"
          ]
        },
        {
          "output_type": "stream",
          "name": "stderr",
          "text": [
            "\r 58%|█████▊    | 29/50 [02:14<01:37,  4.64s/it]"
          ]
        },
        {
          "output_type": "stream",
          "name": "stdout",
          "text": [
            "Epoch 28\n",
            "Train accuracy: 1.0\n"
          ]
        },
        {
          "output_type": "stream",
          "name": "stderr",
          "text": [
            "\r 60%|██████    | 30/50 [02:19<01:32,  4.62s/it]"
          ]
        },
        {
          "output_type": "stream",
          "name": "stdout",
          "text": [
            "Epoch 29\n",
            "Train accuracy: 1.0\n"
          ]
        },
        {
          "output_type": "stream",
          "name": "stderr",
          "text": [
            "\r 62%|██████▏   | 31/50 [02:23<01:27,  4.61s/it]"
          ]
        },
        {
          "output_type": "stream",
          "name": "stdout",
          "text": [
            "Epoch 30\n",
            "Train accuracy: 1.0\n"
          ]
        },
        {
          "output_type": "stream",
          "name": "stderr",
          "text": [
            "\r 64%|██████▍   | 32/50 [02:28<01:24,  4.72s/it]"
          ]
        },
        {
          "output_type": "stream",
          "name": "stdout",
          "text": [
            "Epoch 31\n",
            "Train accuracy: 1.0\n"
          ]
        },
        {
          "output_type": "stream",
          "name": "stderr",
          "text": [
            "\r 66%|██████▌   | 33/50 [02:34<01:24,  4.97s/it]"
          ]
        },
        {
          "output_type": "stream",
          "name": "stdout",
          "text": [
            "Epoch 32\n",
            "Train accuracy: 1.0\n"
          ]
        },
        {
          "output_type": "stream",
          "name": "stderr",
          "text": [
            "\r 68%|██████▊   | 34/50 [02:39<01:20,  5.05s/it]"
          ]
        },
        {
          "output_type": "stream",
          "name": "stdout",
          "text": [
            "Epoch 33\n",
            "Train accuracy: 1.0\n"
          ]
        },
        {
          "output_type": "stream",
          "name": "stderr",
          "text": [
            "\r 70%|███████   | 35/50 [02:45<01:16,  5.12s/it]"
          ]
        },
        {
          "output_type": "stream",
          "name": "stdout",
          "text": [
            "Epoch 34\n",
            "Train accuracy: 1.0\n"
          ]
        },
        {
          "output_type": "stream",
          "name": "stderr",
          "text": [
            "\r 72%|███████▏  | 36/50 [02:49<01:09,  4.96s/it]"
          ]
        },
        {
          "output_type": "stream",
          "name": "stdout",
          "text": [
            "Epoch 35\n",
            "Train accuracy: 1.0\n"
          ]
        },
        {
          "output_type": "stream",
          "name": "stderr",
          "text": [
            "\r 74%|███████▍  | 37/50 [02:54<01:03,  4.85s/it]"
          ]
        },
        {
          "output_type": "stream",
          "name": "stdout",
          "text": [
            "Epoch 36\n",
            "Train accuracy: 1.0\n"
          ]
        },
        {
          "output_type": "stream",
          "name": "stderr",
          "text": [
            "\r 76%|███████▌  | 38/50 [02:58<00:57,  4.77s/it]"
          ]
        },
        {
          "output_type": "stream",
          "name": "stdout",
          "text": [
            "Epoch 37\n",
            "Train accuracy: 1.0\n"
          ]
        },
        {
          "output_type": "stream",
          "name": "stderr",
          "text": [
            "\r 78%|███████▊  | 39/50 [03:03<00:51,  4.72s/it]"
          ]
        },
        {
          "output_type": "stream",
          "name": "stdout",
          "text": [
            "Epoch 38\n",
            "Train accuracy: 1.0\n"
          ]
        },
        {
          "output_type": "stream",
          "name": "stderr",
          "text": [
            "\r 80%|████████  | 40/50 [03:08<00:46,  4.69s/it]"
          ]
        },
        {
          "output_type": "stream",
          "name": "stdout",
          "text": [
            "Epoch 39\n",
            "Train accuracy: 1.0\n"
          ]
        },
        {
          "output_type": "stream",
          "name": "stderr",
          "text": [
            "\r 82%|████████▏ | 41/50 [03:12<00:42,  4.69s/it]"
          ]
        },
        {
          "output_type": "stream",
          "name": "stdout",
          "text": [
            "Epoch 40\n",
            "Train accuracy: 1.0\n"
          ]
        },
        {
          "output_type": "stream",
          "name": "stderr",
          "text": [
            "\r 84%|████████▍ | 42/50 [03:17<00:37,  4.67s/it]"
          ]
        },
        {
          "output_type": "stream",
          "name": "stdout",
          "text": [
            "Epoch 41\n",
            "Train accuracy: 1.0\n"
          ]
        },
        {
          "output_type": "stream",
          "name": "stderr",
          "text": [
            "\r 86%|████████▌ | 43/50 [03:21<00:32,  4.66s/it]"
          ]
        },
        {
          "output_type": "stream",
          "name": "stdout",
          "text": [
            "Epoch 42\n",
            "Train accuracy: 1.0\n"
          ]
        },
        {
          "output_type": "stream",
          "name": "stderr",
          "text": [
            "\r 88%|████████▊ | 44/50 [03:27<00:30,  5.03s/it]"
          ]
        },
        {
          "output_type": "stream",
          "name": "stdout",
          "text": [
            "Epoch 43\n",
            "Train accuracy: 1.0\n"
          ]
        },
        {
          "output_type": "stream",
          "name": "stderr",
          "text": [
            "\r 90%|█████████ | 45/50 [03:32<00:24,  4.90s/it]"
          ]
        },
        {
          "output_type": "stream",
          "name": "stdout",
          "text": [
            "Epoch 44\n",
            "Train accuracy: 1.0\n"
          ]
        },
        {
          "output_type": "stream",
          "name": "stderr",
          "text": [
            "\r 92%|█████████▏| 46/50 [03:37<00:19,  4.80s/it]"
          ]
        },
        {
          "output_type": "stream",
          "name": "stdout",
          "text": [
            "Epoch 45\n",
            "Train accuracy: 1.0\n"
          ]
        },
        {
          "output_type": "stream",
          "name": "stderr",
          "text": [
            "\r 94%|█████████▍| 47/50 [03:41<00:14,  4.75s/it]"
          ]
        },
        {
          "output_type": "stream",
          "name": "stdout",
          "text": [
            "Epoch 46\n",
            "Train accuracy: 1.0\n"
          ]
        },
        {
          "output_type": "stream",
          "name": "stderr",
          "text": [
            "\r 96%|█████████▌| 48/50 [03:46<00:09,  4.71s/it]"
          ]
        },
        {
          "output_type": "stream",
          "name": "stdout",
          "text": [
            "Epoch 47\n",
            "Train accuracy: 1.0\n"
          ]
        },
        {
          "output_type": "stream",
          "name": "stderr",
          "text": [
            "\r 98%|█████████▊| 49/50 [03:50<00:04,  4.70s/it]"
          ]
        },
        {
          "output_type": "stream",
          "name": "stdout",
          "text": [
            "Epoch 48\n",
            "Train accuracy: 1.0\n"
          ]
        },
        {
          "output_type": "stream",
          "name": "stderr",
          "text": [
            "100%|██████████| 50/50 [03:55<00:00,  4.71s/it]"
          ]
        },
        {
          "output_type": "stream",
          "name": "stdout",
          "text": [
            "Epoch 49\n",
            "Train accuracy: 1.0\n"
          ]
        },
        {
          "output_type": "stream",
          "name": "stderr",
          "text": [
            "\n"
          ]
        },
        {
          "output_type": "display_data",
          "data": {
            "text/plain": [
              "<Figure size 432x288 with 1 Axes>"
            ],
            "image/png": "[encoded data removed]"
          },
          "metadata": {
            "needs_background": "light"
          }
        }
      ],
      "source": [
        "# Training the model\n",
        "for epoch in tqdm(range(EPOCHS)):\n",
        "    for x_batch,y_batch in iterate_minibatches(X_train_flatten, y_train, batchsize=BATCH_SIZE, shuffle=SHUFFLE_DATA):\n",
        "        model.train(x_batch,y_batch)\n",
        "    \n",
        "    train_log.append(np.mean(model.predict(X_train_flatten)==y_train))\n",
        "\n",
        "    print(\"Epoch\",epoch)\n",
        "    print(\"Train accuracy:\",train_log[-1])\n",
        "\n",
        "plt.plot(train_log,label='train accuracy')\n",
        "plt.legend(loc='best')\n",
        "plt.grid()\n",
        "plt.show()"
      ]
    },
    {
      "cell_type": "code",
      "source": [
        "# predictions = model.predict(X_test_flatten)\n",
        "# accuracy = np.mean(predictions==y_test)\n",
        "# print(accuracy)"
      ],
      "metadata": {
        "id": "TXiNDCkJBEnB"
      },
      "execution_count": 39,
      "outputs": []
    },
    {
      "cell_type": "code",
      "execution_count": 40,
      "metadata": {
        "id": "zlwPAY-PgUl8",
        "colab": {
          "base_uri": "https://localhost:8080/"
        },
        "outputId": "81108ef3-9a25-4645-99f8-cefefa675832"
      },
      "outputs": [
        {
          "output_type": "stream",
          "name": "stdout",
          "text": [
            "Predicting on all song segments from test data and saving them too...\n"
          ]
        }
      ],
      "source": [
        "# testing and printing predictions on all of the test data\n",
        "preds = []\n",
        "targets = []\n",
        "print(\"Predicting on all song segments from test data and saving them too...\")\n",
        "\n",
        "for i in range(len(X_test_flatten)):\n",
        "  y_pred = model.predict(X_test_flatten[i].reshape((1, -1)))\n",
        "  preds.append(y_pred)\n",
        "  targets.append(y_test[i]) "
      ]
    },
    {
      "cell_type": "code",
      "execution_count": 47,
      "metadata": {
        "id": "A5txQ6qVQ8aw",
        "colab": {
          "base_uri": "https://localhost:8080/",
          "height": 439
        },
        "outputId": "99edd80b-8147-4a67-e529-1f57927cdee5"
      },
      "outputs": [
        {
          "output_type": "display_data",
          "data": {
            "text/plain": [
              "<Figure size 432x288 with 1 Axes>"
            ],
            "image/png": "[encoded data removed]"
          },
          "metadata": {
            "needs_background": "light"
          }
        },
        {
          "output_type": "stream",
          "name": "stdout",
          "text": [
            "0.1073\n",
            "0.0\n",
            "\n",
            "Test Accuracy: 53.0\n"
          ]
        }
      ],
      "source": [
        "# Confusion matrix\n",
        "cm = confusion_matrix(targets, preds)\n",
        "# print(cm)\n",
        "\n",
        "class_label = z #mapping in json had a list of all classes\n",
        "df_cm = pd.DataFrame(cm, index = class_label, columns = class_label)\n",
        "sns.heatmap(df_cm, annot = True, fmt= \"d\", cbar = False)\n",
        "plt.title(\"Confusion Matrix\")\n",
        "plt.xlabel(\"Predicted Label\")\n",
        "plt.ylabel(\"Actual Label\")\n",
        "plt.show()\n",
        "\n",
        "count = 0\n",
        "for i in range(len(targets)):\n",
        "  if targets[i] == preds[i]:\n",
        "    count += 1\n",
        "print(\"\\nTest Accuracy:\", count/len(targets) * 100)"
      ]
    },
    {
      "cell_type": "markdown",
      "source": [
        "#Validating Data on OutSide data"
      ],
      "metadata": {
        "id": "eiNYnUsehb1s"
      }
    },
    {
      "cell_type": "code",
      "source": [
        "def new_song_predict(audio_path, model, z):\n",
        "    name = audio_path.split(\"/\")[-1].split(\"_\")[0]\n",
        "    signal, sample_rate = librosa.load(audio_path, sr=SAMPLE_RATE)\n",
        "    duration = librosa.get_duration(y=signal, sr=sample_rate) #duration in seconds\n",
        "    results = []\n",
        "\n",
        "    d = 0\n",
        "    for i in range(0, math.floor(duration), TRACK_SAMPLE): #generating mfccs for random segments in songs\n",
        "\n",
        "        if (i+10) > duration:\n",
        "          continue\n",
        "    \n",
        "        start = i * SAMPLE_RATE\n",
        "        finish = (i + TRACK_SAMPLE) * SAMPLE_RATE\n",
        "\n",
        "        # OR you can just do\n",
        "        # data = librosa.load(file_path, sr=SAMPLE_RATE, offset = i, duration = i + TRACK_SAMPLE)\n",
        "\n",
        "        mfcc = librosa.feature.mfcc(signal[start:finish], sample_rate, n_mfcc=num_mfcc, n_fft=n_fft, hop_length=hop_length)\n",
        "        mfcc = mfcc.T\n",
        "        data = np.array(mfcc.tolist())\n",
        "        data = data.reshape((1, -1))\n",
        "        prediction = model.predict(data)\n",
        "        results.append(prediction[0])\n",
        "\n",
        "    return z[mode(results)], name"
      ],
      "metadata": {
        "id": "8-Ph-ha_LQC8"
      },
      "execution_count": 42,
      "outputs": []
    },
    {
      "cell_type": "code",
      "source": [
        "new_song_predict(\"/content/drive/MyDrive/AI_voice_data/TestingData/Fizza Rubab_Test.wav\", model, z)"
      ],
      "metadata": {
        "id": "CUlcHfZq6BwI",
        "colab": {
          "base_uri": "https://localhost:8080/"
        },
        "outputId": "22efd97b-2415-4a64-ad07-6fe6e3d5819d"
      },
      "execution_count": 43,
      "outputs": [
        {
          "output_type": "execute_result",
          "data": {
            "text/plain": [
              "('Fizza Rubab', 'Fizza Rubab')"
            ]
          },
          "metadata": {},
          "execution_count": 43
        }
      ]
    },
    {
      "cell_type": "code",
      "source": [
        "# save the model to disk\n",
        "import pickle\n",
        "filename = 'VoiceRecognitionModel.pkl'\n",
        "pickle.dump(model, open(filename, 'wb'))"
      ],
      "metadata": {
        "id": "n9s6eQbrO31Q"
      },
      "execution_count": 45,
      "outputs": []
    },
    {
      "cell_type": "code",
      "source": [
        "loaded_model = pickle.load(open('VoiceRecognitionModel.pkl', 'rb'))"
      ],
      "metadata": {
        "id": "pqN3olLjzvhE"
      },
      "execution_count": 50,
      "outputs": []
    },
    {
      "cell_type": "code",
      "source": [
        "new_song_predict(\"/content/drive/MyDrive/AI_voice_data/TestingData/Fizza Rubab_Test.wav\", loaded_model, z)"
      ],
      "metadata": {
        "colab": {
          "base_uri": "https://localhost:8080/"
        },
        "id": "fVLxG9G4z6GN",
        "outputId": "77684786-03b3-4c34-c62e-83e6d19946fc"
      },
      "execution_count": 51,
      "outputs": [
        {
          "output_type": "execute_result",
          "data": {
            "text/plain": [
              "('Fizza Rubab', 'Fizza Rubab')"
            ]
          },
          "metadata": {},
          "execution_count": 51
        }
      ]
    }
  ]
}